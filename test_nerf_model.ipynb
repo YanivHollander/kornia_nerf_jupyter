{
 "cells": [
  {
   "cell_type": "code",
   "execution_count": 2,
   "metadata": {},
   "outputs": [
    {
     "name": "stdout",
     "output_type": "stream",
     "text": [
      "/workspaces/kornia/kornia/geometry/nerf\n"
     ]
    }
   ],
   "source": [
    "import os\n",
    "print(os.getcwd())\n",
    "os.chdir('/workspaces/kornia/kornia/geometry/nerf/')\n",
    "\n",
    "from nerf_model import MLP\n",
    "\n",
    "from torchsummary import summary\n",
    "\n",
    "import matplotlib.pyplot as plt"
   ]
  },
  {
   "cell_type": "code",
   "execution_count": 5,
   "metadata": {},
   "outputs": [
    {
     "name": "stdout",
     "output_type": "stream",
     "text": [
      "----------------------------------------------------------------\n",
      "        Layer (type)               Output Shape         Param #\n",
      "================================================================\n",
      "            Linear-1              [-1, 10, 128]           3,584\n",
      "              ReLU-2              [-1, 10, 128]               0\n",
      "            Linear-3              [-1, 10, 128]          16,512\n",
      "              ReLU-4              [-1, 10, 128]               0\n",
      "            Linear-5              [-1, 10, 128]          16,512\n",
      "              ReLU-6              [-1, 10, 128]               0\n",
      "            Linear-7              [-1, 10, 128]          19,968\n",
      "              ReLU-8              [-1, 10, 128]               0\n",
      "            Linear-9              [-1, 10, 128]          16,512\n",
      "             ReLU-10              [-1, 10, 128]               0\n",
      "           Linear-11              [-1, 10, 128]          16,512\n",
      "             ReLU-12              [-1, 10, 128]               0\n",
      "           Linear-13              [-1, 10, 128]          19,968\n",
      "             ReLU-14              [-1, 10, 128]               0\n",
      "           Linear-15              [-1, 10, 128]          16,512\n",
      "             ReLU-16              [-1, 10, 128]               0\n",
      "           Linear-17              [-1, 10, 128]          16,512\n",
      "             ReLU-18              [-1, 10, 128]               0\n",
      "================================================================\n",
      "Total params: 142,592\n",
      "Trainable params: 142,592\n",
      "Non-trainable params: 0\n",
      "----------------------------------------------------------------\n",
      "Input size (MB): 0.00\n",
      "Forward/backward pass size (MB): 0.18\n",
      "Params size (MB): 0.54\n",
      "Estimated Total Size (MB): 0.72\n",
      "----------------------------------------------------------------\n",
      "None\n"
     ]
    }
   ],
   "source": [
    "n_freqs = 4\n",
    "d_input = 3\n",
    "mlp = MLP(d_input * (2 * n_freqs + 1), n_units=3, n_unit_layers=3)\n",
    "\n",
    "print(summary(mlp, (10, d_input * (2 * n_freqs + 1))))"
   ]
  },
  {
   "cell_type": "code",
   "execution_count": null,
   "metadata": {},
   "outputs": [],
   "source": []
  }
 ],
 "metadata": {
  "interpreter": {
   "hash": "949777d72b0d2535278d3dc13498b2535136f6dfe0678499012e853ee9abcab1"
  },
  "kernelspec": {
   "display_name": "Python 3.8.13 64-bit",
   "language": "python",
   "name": "python3"
  },
  "language_info": {
   "codemirror_mode": {
    "name": "ipython",
    "version": 3
   },
   "file_extension": ".py",
   "mimetype": "text/x-python",
   "name": "python",
   "nbconvert_exporter": "python",
   "pygments_lexer": "ipython3",
   "version": "3.8.13"
  },
  "orig_nbformat": 4
 },
 "nbformat": 4,
 "nbformat_minor": 2
}
