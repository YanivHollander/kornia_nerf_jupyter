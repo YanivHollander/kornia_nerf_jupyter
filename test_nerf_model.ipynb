{
 "cells": [
  {
   "cell_type": "code",
   "execution_count": 1,
   "metadata": {},
   "outputs": [
    {
     "name": "stdout",
     "output_type": "stream",
     "text": [
      "/home/yhollander/Documents/Git/kornia\n"
     ]
    }
   ],
   "source": [
    "import os\n",
    "try:\n",
    "  from google.colab import drive\n",
    "  drive.mount('/content/drive')\n",
    "\n",
    "  os.chdir('/content/drive/MyDrive/GitHub/kornia')\n",
    "except Exception:   # Not run on Google Colab\n",
    "  import getpass\n",
    "  if getpass.getuser() == 'vscode':       # Running in container\n",
    "    os.chdir('/workspaces/kornia/')\n",
    "  else:                                   # Running in virtual environment\n",
    "    os.chdir(os.path.join(os.path.expanduser('~'), 'Documents/Git/kornia/'))\n",
    "\n",
    "print(os.getcwd())\n",
    "import sys\n",
    "sys.path.insert(0, os.getcwd())\n",
    "\n",
    "from kornia.nerf.nerf_model import MLP, NerfModel\n",
    "\n",
    "import torch\n",
    "from torchsummary import summary\n",
    "\n",
    "import matplotlib.pyplot as plt"
   ]
  },
  {
   "cell_type": "code",
   "execution_count": 2,
   "metadata": {},
   "outputs": [
    {
     "name": "stdout",
     "output_type": "stream",
     "text": [
      "----------------------------------------------------------------\n",
      "        Layer (type)               Output Shape         Param #\n",
      "================================================================\n",
      "            Linear-1              [-1, 10, 128]           3,584\n",
      "              ReLU-2              [-1, 10, 128]               0\n",
      "            Linear-3              [-1, 10, 128]          16,512\n",
      "              ReLU-4              [-1, 10, 128]               0\n",
      "            Linear-5              [-1, 10, 128]          16,512\n",
      "              ReLU-6              [-1, 10, 128]               0\n",
      "            Linear-7              [-1, 10, 128]          16,512\n",
      "              ReLU-8              [-1, 10, 128]               0\n",
      "            Linear-9              [-1, 10, 128]          19,968\n",
      "             ReLU-10              [-1, 10, 128]               0\n",
      "           Linear-11              [-1, 10, 128]          16,512\n",
      "             ReLU-12              [-1, 10, 128]               0\n",
      "           Linear-13              [-1, 10, 128]          16,512\n",
      "             ReLU-14              [-1, 10, 128]               0\n",
      "           Linear-15              [-1, 10, 128]          16,512\n",
      "             ReLU-16              [-1, 10, 128]               0\n",
      "================================================================\n",
      "Total params: 122,624\n",
      "Trainable params: 122,624\n",
      "Non-trainable params: 0\n",
      "----------------------------------------------------------------\n",
      "Input size (MB): 0.00\n",
      "Forward/backward pass size (MB): 0.16\n",
      "Params size (MB): 0.47\n",
      "Estimated Total Size (MB): 0.63\n",
      "----------------------------------------------------------------\n",
      "None\n"
     ]
    }
   ],
   "source": [
    "n_freqs = 4\n",
    "d_input = 3\n",
    "mlp = MLP(d_input * (2 * n_freqs + 1))\n",
    "\n",
    "print(summary(mlp, (10, d_input * (2 * n_freqs + 1))))"
   ]
  },
  {
   "cell_type": "code",
   "execution_count": 3,
   "metadata": {},
   "outputs": [
    {
     "name": "stdout",
     "output_type": "stream",
     "text": [
      "MLP(\n",
      "  (_mlp): ModuleList(\n",
      "    (0): Sequential(\n",
      "      (0): Linear(in_features=27, out_features=128, bias=True)\n",
      "      (1): ReLU()\n",
      "    )\n",
      "    (1): Sequential(\n",
      "      (0): Linear(in_features=128, out_features=128, bias=True)\n",
      "      (1): ReLU()\n",
      "    )\n",
      "    (2): Sequential(\n",
      "      (0): Linear(in_features=128, out_features=128, bias=True)\n",
      "      (1): ReLU()\n",
      "    )\n",
      "    (3): Sequential(\n",
      "      (0): Linear(in_features=128, out_features=128, bias=True)\n",
      "      (1): ReLU()\n",
      "    )\n",
      "    (4): Sequential(\n",
      "      (0): Linear(in_features=155, out_features=128, bias=True)\n",
      "      (1): ReLU()\n",
      "    )\n",
      "    (5): Sequential(\n",
      "      (0): Linear(in_features=128, out_features=128, bias=True)\n",
      "      (1): ReLU()\n",
      "    )\n",
      "    (6): Sequential(\n",
      "      (0): Linear(in_features=128, out_features=128, bias=True)\n",
      "      (1): ReLU()\n",
      "    )\n",
      "    (7): Sequential(\n",
      "      (0): Linear(in_features=128, out_features=128, bias=True)\n",
      "      (1): ReLU()\n",
      "    )\n",
      "  )\n",
      ")\n"
     ]
    }
   ],
   "source": [
    "print(mlp)"
   ]
  },
  {
   "cell_type": "code",
   "execution_count": 4,
   "metadata": {},
   "outputs": [],
   "source": [
    "from torch.utils.tensorboard import SummaryWriter\n",
    "\n",
    "writer = SummaryWriter('runs/nerf')"
   ]
  },
  {
   "cell_type": "code",
   "execution_count": 5,
   "metadata": {},
   "outputs": [],
   "source": [
    "# x = torch.rand(15, 11, 27)\n",
    "# writer.add_graph(mlp, x)"
   ]
  },
  {
   "cell_type": "code",
   "execution_count": null,
   "metadata": {},
   "outputs": [],
   "source": []
  },
  {
   "cell_type": "code",
   "execution_count": 6,
   "metadata": {},
   "outputs": [],
   "source": [
    "nerf_model = NerfModel(11)"
   ]
  },
  {
   "cell_type": "code",
   "execution_count": 7,
   "metadata": {},
   "outputs": [],
   "source": [
    "points_3d = torch.rand(15, 11, 3)\n",
    "directions = torch.rand(15, 3)\n",
    "\n",
    "nerf_model._mlp.eval()\n",
    "nerf_model.eval()\n",
    "\n",
    "writer.add_graph(nerf_model, (points_3d, directions))"
   ]
  },
  {
   "cell_type": "code",
   "execution_count": null,
   "metadata": {},
   "outputs": [],
   "source": []
  },
  {
   "cell_type": "code",
   "execution_count": 8,
   "metadata": {},
   "outputs": [
    {
     "name": "stdout",
     "output_type": "stream",
     "text": [
      "----------------------------------------------------------------\n",
      "        Layer (type)               Output Shape         Param #\n",
      "================================================================\n",
      "            Conv2d-1            [-1, 1, 18, 18]              10\n",
      "              ReLU-2            [-1, 1, 18, 18]               0\n",
      "            Conv2d-3            [-1, 1, 30, 30]              10\n",
      "              ReLU-4            [-1, 1, 30, 30]               0\n",
      "================================================================\n",
      "Total params: 20\n",
      "Trainable params: 20\n",
      "Non-trainable params: 0\n",
      "----------------------------------------------------------------\n",
      "Input size (MB): 1.11\n",
      "Forward/backward pass size (MB): 0.02\n",
      "Params size (MB): 0.00\n",
      "Estimated Total Size (MB): 1.13\n",
      "----------------------------------------------------------------\n"
     ]
    }
   ],
   "source": [
    "import torch\n",
    "import torch.nn as nn\n",
    "from torchsummary import summary\n",
    "\n",
    "class Multi_input(nn.Module):\n",
    "    def __init__(self):\n",
    "        super(Multi_input, self).__init__()\n",
    "        self.features = nn.Sequential(\n",
    "            nn.Conv2d(1, 1, kernel_size=3, stride=1, padding=1),\n",
    "            nn.ReLU(),\n",
    "        )\n",
    "\n",
    "    def forward(self, y, z):\n",
    "        a1 = self.features(y)\n",
    "        a2 = self.features(z)\n",
    "        return a1, a2\n",
    "    \n",
    "multi_inputdevice = torch.device(\"cuda\" if torch.cuda.is_available() else \"cpu\")\n",
    "model = Multi_input().to(multi_inputdevice)\n",
    "\n",
    "summary(model, [(1, 18, 18), (1, 30, 30)])"
   ]
  },
  {
   "cell_type": "code",
   "execution_count": null,
   "metadata": {},
   "outputs": [],
   "source": []
  }
 ],
 "metadata": {
  "kernelspec": {
   "display_name": "Python 3.8.10 ('venv')",
   "language": "python",
   "name": "python3"
  },
  "language_info": {
   "codemirror_mode": {
    "name": "ipython",
    "version": 3
   },
   "file_extension": ".py",
   "mimetype": "text/x-python",
   "name": "python",
   "nbconvert_exporter": "python",
   "pygments_lexer": "ipython3",
   "version": "3.8.10"
  },
  "orig_nbformat": 4,
  "vscode": {
   "interpreter": {
    "hash": "baedcaf87ec2d2e91dcc6dfc992f9d662b77c6d2ce4bd0ad11967ca22abcd822"
   }
  }
 },
 "nbformat": 4,
 "nbformat_minor": 2
}
